{
  "nbformat": 4,
  "nbformat_minor": 0,
  "metadata": {
    "colab": {
      "provenance": [],
      "authorship_tag": "ABX9TyPYUUPnARD7tdnDPqmxEA2R",
      "include_colab_link": true
    },
    "kernelspec": {
      "name": "python3",
      "display_name": "Python 3"
    },
    "language_info": {
      "name": "python"
    }
  },
  "cells": [
    {
      "cell_type": "markdown",
      "metadata": {
        "id": "view-in-github",
        "colab_type": "text"
      },
      "source": [
        "<a href=\"https://colab.research.google.com/github/soham7707/quantum_soham/blob/main/Grover's.ipynb\" target=\"_parent\"><img src=\"https://colab.research.google.com/assets/colab-badge.svg\" alt=\"Open In Colab\"/></a>"
      ]
    },
    {
      "cell_type": "code",
      "execution_count": 1,
      "metadata": {
        "colab": {
          "base_uri": "https://localhost:8080/"
        },
        "id": "15he70gIFhSK",
        "outputId": "49004a3e-bff9-430b-f396-c87ca0d4b0d6"
      },
      "outputs": [
        {
          "output_type": "stream",
          "name": "stdout",
          "text": [
            "\u001b[2K   \u001b[90m━━━━━━━━━━━━━━━━━━━━━━━━━━━━━━━━━━━━━━━━\u001b[0m \u001b[32m6.5/6.5 MB\u001b[0m \u001b[31m37.8 MB/s\u001b[0m eta \u001b[36m0:00:00\u001b[0m\n",
            "\u001b[2K   \u001b[90m━━━━━━━━━━━━━━━━━━━━━━━━━━━━━━━━━━━━━━━━\u001b[0m \u001b[32m12.4/12.4 MB\u001b[0m \u001b[31m46.3 MB/s\u001b[0m eta \u001b[36m0:00:00\u001b[0m\n",
            "\u001b[2K   \u001b[90m━━━━━━━━━━━━━━━━━━━━━━━━━━━━━━━━━━━━━━━━\u001b[0m \u001b[32m2.1/2.1 MB\u001b[0m \u001b[31m78.9 MB/s\u001b[0m eta \u001b[36m0:00:00\u001b[0m\n",
            "\u001b[2K   \u001b[90m━━━━━━━━━━━━━━━━━━━━━━━━━━━━━━━━━━━━━━━━\u001b[0m \u001b[32m49.5/49.5 kB\u001b[0m \u001b[31m3.5 MB/s\u001b[0m eta \u001b[36m0:00:00\u001b[0m\n",
            "\u001b[2K   \u001b[90m━━━━━━━━━━━━━━━━━━━━━━━━━━━━━━━━━━━━━━━━\u001b[0m \u001b[32m49.7/49.7 MB\u001b[0m \u001b[31m13.4 MB/s\u001b[0m eta \u001b[36m0:00:00\u001b[0m\n",
            "\u001b[2K   \u001b[90m━━━━━━━━━━━━━━━━━━━━━━━━━━━━━━━━━━━━━━━━\u001b[0m \u001b[32m109.0/109.0 kB\u001b[0m \u001b[31m6.8 MB/s\u001b[0m eta \u001b[36m0:00:00\u001b[0m\n",
            "\u001b[?25h"
          ]
        }
      ],
      "source": [
        "  !pip install qiskit qiskit-aer matplotlib --quiet"
      ]
    },
    {
      "cell_type": "code",
      "source": [
        "from qiskit import QuantumCircuit, transpile\n",
        "from qiskit_aer import Aer\n",
        "from qiskit.visualization import plot_histogram\n",
        "import matplotlib.pyplot as plt"
      ],
      "metadata": {
        "id": "1-xYvydjGIZG"
      },
      "execution_count": 2,
      "outputs": []
    },
    {
      "cell_type": "code",
      "source": [
        "def grover_oracle():\n",
        "    oracle = QuantumCircuit(2)\n",
        "    oracle.cz(0, 1)\n",
        "    return oracle\n",
        "\n",
        "def grover_diffuser():\n",
        "    diffuser = QuantumCircuit(2)\n",
        "    diffuser.h([0, 1])\n",
        "    diffuser.x([0, 1])\n",
        "    diffuser.cz(0, 1)\n",
        "    diffuser.x([0, 1])\n",
        "    diffuser.h([0, 1])\n",
        "    return diffuser"
      ],
      "metadata": {
        "id": "ZeXhJaEtGNRP"
      },
      "execution_count": 3,
      "outputs": []
    },
    {
      "cell_type": "code",
      "source": [
        "qc = QuantumCircuit(2, 2)\n",
        "qc.h([0, 1])\n",
        "qc.append(grover_oracle().to_gate(), [0, 1])\n",
        "qc.append(grover_diffuser().to_gate(), [0, 1])\n",
        "qc.measure([0, 1], [0, 1])\n",
        "\n",
        "backend = Aer.get_backend('aer_simulator')\n",
        "transpiled = transpile(qc, backend)\n",
        "result = backend.run(transpiled).result()\n",
        "counts = result.get_counts()\n",
        "print(qc.draw(output='text'))\n",
        "plot_histogram(counts)\n",
        "plt.show()"
      ],
      "metadata": {
        "colab": {
          "base_uri": "https://localhost:8080/"
        },
        "id": "fo9_9nu0GOva",
        "outputId": "344d21d7-3577-4f79-d267-d5da5a7a3b96"
      },
      "execution_count": 4,
      "outputs": [
        {
          "output_type": "stream",
          "name": "stdout",
          "text": [
            "     ┌───┐┌──────────────┐┌──────────────┐┌─┐   \n",
            "q_0: ┤ H ├┤0             ├┤0             ├┤M├───\n",
            "     ├───┤│  circuit-163 ││  circuit-166 │└╥┘┌─┐\n",
            "q_1: ┤ H ├┤1             ├┤1             ├─╫─┤M├\n",
            "     └───┘└──────────────┘└──────────────┘ ║ └╥┘\n",
            "c: 2/══════════════════════════════════════╩══╩═\n",
            "                                           0  1 \n"
          ]
        }
      ]
    }
  ]
}