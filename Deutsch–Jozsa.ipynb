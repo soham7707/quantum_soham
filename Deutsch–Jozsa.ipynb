{
  "nbformat": 4,
  "nbformat_minor": 0,
  "metadata": {
    "colab": {
      "provenance": [],
      "authorship_tag": "ABX9TyPaPMwWwg4esmEZ4Lmj+Iyt",
      "include_colab_link": true
    },
    "kernelspec": {
      "name": "python3",
      "display_name": "Python 3"
    },
    "language_info": {
      "name": "python"
    }
  },
  "cells": [
    {
      "cell_type": "markdown",
      "metadata": {
        "id": "view-in-github",
        "colab_type": "text"
      },
      "source": [
        "<a href=\"https://colab.research.google.com/github/soham7707/quantum_soham/blob/main/Deutsch%E2%80%93Jozsa.ipynb\" target=\"_parent\"><img src=\"https://colab.research.google.com/assets/colab-badge.svg\" alt=\"Open In Colab\"/></a>"
      ]
    },
    {
      "cell_type": "code",
      "execution_count": 2,
      "metadata": {
        "colab": {
          "base_uri": "https://localhost:8080/"
        },
        "id": "CGGvqx4DCocl",
        "outputId": "0a355ac6-2427-4026-c375-42c332ac8149"
      },
      "outputs": [
        {
          "output_type": "stream",
          "name": "stdout",
          "text": [
            "Collecting qiskit\n",
            "  Downloading qiskit-2.0.1-cp39-abi3-manylinux_2_17_x86_64.manylinux2014_x86_64.whl.metadata (12 kB)\n",
            "Collecting rustworkx>=0.15.0 (from qiskit)\n",
            "  Downloading rustworkx-0.16.0-cp39-abi3-manylinux_2_17_x86_64.manylinux2014_x86_64.whl.metadata (10 kB)\n",
            "Requirement already satisfied: numpy<3,>=1.17 in /usr/local/lib/python3.11/dist-packages (from qiskit) (2.0.2)\n",
            "Requirement already satisfied: scipy>=1.5 in /usr/local/lib/python3.11/dist-packages (from qiskit) (1.15.3)\n",
            "Requirement already satisfied: sympy>=1.3 in /usr/local/lib/python3.11/dist-packages (from qiskit) (1.13.1)\n",
            "Requirement already satisfied: dill>=0.3 in /usr/local/lib/python3.11/dist-packages (from qiskit) (0.3.7)\n",
            "Requirement already satisfied: python-dateutil>=2.8.0 in /usr/local/lib/python3.11/dist-packages (from qiskit) (2.9.0.post0)\n",
            "Collecting stevedore>=3.0.0 (from qiskit)\n",
            "  Downloading stevedore-5.4.1-py3-none-any.whl.metadata (2.3 kB)\n",
            "Requirement already satisfied: typing-extensions in /usr/local/lib/python3.11/dist-packages (from qiskit) (4.13.2)\n",
            "Collecting symengine<0.14,>=0.11 (from qiskit)\n",
            "  Downloading symengine-0.13.0-cp311-cp311-manylinux_2_17_x86_64.manylinux2014_x86_64.whl.metadata (1.2 kB)\n",
            "Requirement already satisfied: six>=1.5 in /usr/local/lib/python3.11/dist-packages (from python-dateutil>=2.8.0->qiskit) (1.17.0)\n",
            "Collecting pbr>=2.0.0 (from stevedore>=3.0.0->qiskit)\n",
            "  Downloading pbr-6.1.1-py2.py3-none-any.whl.metadata (3.4 kB)\n",
            "Requirement already satisfied: mpmath<1.4,>=1.1.0 in /usr/local/lib/python3.11/dist-packages (from sympy>=1.3->qiskit) (1.3.0)\n",
            "Requirement already satisfied: setuptools in /usr/local/lib/python3.11/dist-packages (from pbr>=2.0.0->stevedore>=3.0.0->qiskit) (75.2.0)\n",
            "Downloading qiskit-2.0.1-cp39-abi3-manylinux_2_17_x86_64.manylinux2014_x86_64.whl (6.5 MB)\n",
            "\u001b[2K   \u001b[90m━━━━━━━━━━━━━━━━━━━━━━━━━━━━━━━━━━━━━━━━\u001b[0m \u001b[32m6.5/6.5 MB\u001b[0m \u001b[31m46.8 MB/s\u001b[0m eta \u001b[36m0:00:00\u001b[0m\n",
            "\u001b[?25hDownloading rustworkx-0.16.0-cp39-abi3-manylinux_2_17_x86_64.manylinux2014_x86_64.whl (2.1 MB)\n",
            "\u001b[2K   \u001b[90m━━━━━━━━━━━━━━━━━━━━━━━━━━━━━━━━━━━━━━━━\u001b[0m \u001b[32m2.1/2.1 MB\u001b[0m \u001b[31m77.0 MB/s\u001b[0m eta \u001b[36m0:00:00\u001b[0m\n",
            "\u001b[?25hDownloading stevedore-5.4.1-py3-none-any.whl (49 kB)\n",
            "\u001b[2K   \u001b[90m━━━━━━━━━━━━━━━━━━━━━━━━━━━━━━━━━━━━━━━━\u001b[0m \u001b[32m49.5/49.5 kB\u001b[0m \u001b[31m3.9 MB/s\u001b[0m eta \u001b[36m0:00:00\u001b[0m\n",
            "\u001b[?25hDownloading symengine-0.13.0-cp311-cp311-manylinux_2_17_x86_64.manylinux2014_x86_64.whl (49.7 MB)\n",
            "\u001b[2K   \u001b[90m━━━━━━━━━━━━━━━━━━━━━━━━━━━━━━━━━━━━━━━━\u001b[0m \u001b[32m49.7/49.7 MB\u001b[0m \u001b[31m18.4 MB/s\u001b[0m eta \u001b[36m0:00:00\u001b[0m\n",
            "\u001b[?25hDownloading pbr-6.1.1-py2.py3-none-any.whl (108 kB)\n",
            "\u001b[2K   \u001b[90m━━━━━━━━━━━━━━━━━━━━━━━━━━━━━━━━━━━━━━━━\u001b[0m \u001b[32m109.0/109.0 kB\u001b[0m \u001b[31m8.8 MB/s\u001b[0m eta \u001b[36m0:00:00\u001b[0m\n",
            "\u001b[?25hInstalling collected packages: symengine, rustworkx, pbr, stevedore, qiskit\n",
            "Successfully installed pbr-6.1.1 qiskit-2.0.1 rustworkx-0.16.0 stevedore-5.4.1 symengine-0.13.0\n"
          ]
        }
      ],
      "source": [
        "!pip install qiskit"
      ]
    },
    {
      "cell_type": "code",
      "source": [
        "!pip install qiskit-aer"
      ],
      "metadata": {
        "colab": {
          "base_uri": "https://localhost:8080/"
        },
        "id": "o19_fVvmDyzp",
        "outputId": "f9c8b136-0da6-443b-83cc-9973ad57072a"
      },
      "execution_count": 4,
      "outputs": [
        {
          "output_type": "stream",
          "name": "stdout",
          "text": [
            "Collecting qiskit-aer\n",
            "  Downloading qiskit_aer-0.17.0-cp311-cp311-manylinux_2_17_x86_64.manylinux2014_x86_64.whl.metadata (8.2 kB)\n",
            "Requirement already satisfied: qiskit>=1.1.0 in /usr/local/lib/python3.11/dist-packages (from qiskit-aer) (2.0.1)\n",
            "Requirement already satisfied: numpy>=1.16.3 in /usr/local/lib/python3.11/dist-packages (from qiskit-aer) (2.0.2)\n",
            "Requirement already satisfied: scipy>=1.0 in /usr/local/lib/python3.11/dist-packages (from qiskit-aer) (1.15.3)\n",
            "Requirement already satisfied: psutil>=5 in /usr/local/lib/python3.11/dist-packages (from qiskit-aer) (5.9.5)\n",
            "Requirement already satisfied: rustworkx>=0.15.0 in /usr/local/lib/python3.11/dist-packages (from qiskit>=1.1.0->qiskit-aer) (0.16.0)\n",
            "Requirement already satisfied: sympy>=1.3 in /usr/local/lib/python3.11/dist-packages (from qiskit>=1.1.0->qiskit-aer) (1.13.1)\n",
            "Requirement already satisfied: dill>=0.3 in /usr/local/lib/python3.11/dist-packages (from qiskit>=1.1.0->qiskit-aer) (0.3.7)\n",
            "Requirement already satisfied: python-dateutil>=2.8.0 in /usr/local/lib/python3.11/dist-packages (from qiskit>=1.1.0->qiskit-aer) (2.9.0.post0)\n",
            "Requirement already satisfied: stevedore>=3.0.0 in /usr/local/lib/python3.11/dist-packages (from qiskit>=1.1.0->qiskit-aer) (5.4.1)\n",
            "Requirement already satisfied: typing-extensions in /usr/local/lib/python3.11/dist-packages (from qiskit>=1.1.0->qiskit-aer) (4.13.2)\n",
            "Requirement already satisfied: symengine<0.14,>=0.11 in /usr/local/lib/python3.11/dist-packages (from qiskit>=1.1.0->qiskit-aer) (0.13.0)\n",
            "Requirement already satisfied: six>=1.5 in /usr/local/lib/python3.11/dist-packages (from python-dateutil>=2.8.0->qiskit>=1.1.0->qiskit-aer) (1.17.0)\n",
            "Requirement already satisfied: pbr>=2.0.0 in /usr/local/lib/python3.11/dist-packages (from stevedore>=3.0.0->qiskit>=1.1.0->qiskit-aer) (6.1.1)\n",
            "Requirement already satisfied: mpmath<1.4,>=1.1.0 in /usr/local/lib/python3.11/dist-packages (from sympy>=1.3->qiskit>=1.1.0->qiskit-aer) (1.3.0)\n",
            "Requirement already satisfied: setuptools in /usr/local/lib/python3.11/dist-packages (from pbr>=2.0.0->stevedore>=3.0.0->qiskit>=1.1.0->qiskit-aer) (75.2.0)\n",
            "Downloading qiskit_aer-0.17.0-cp311-cp311-manylinux_2_17_x86_64.manylinux2014_x86_64.whl (12.4 MB)\n",
            "\u001b[2K   \u001b[90m━━━━━━━━━━━━━━━━━━━━━━━━━━━━━━━━━━━━━━━━\u001b[0m \u001b[32m12.4/12.4 MB\u001b[0m \u001b[31m62.4 MB/s\u001b[0m eta \u001b[36m0:00:00\u001b[0m\n",
            "\u001b[?25hInstalling collected packages: qiskit-aer\n",
            "Successfully installed qiskit-aer-0.17.0\n"
          ]
        }
      ]
    },
    {
      "cell_type": "code",
      "source": [
        "from qiskit import QuantumCircuit, transpile\n",
        "from qiskit_aer import Aer\n",
        "from qiskit.visualization import plot_histogram\n",
        "import matplotlib.pyplot as plt"
      ],
      "metadata": {
        "id": "gphuCvP6E2jF"
      },
      "execution_count": 10,
      "outputs": []
    },
    {
      "cell_type": "code",
      "source": [
        "def deutsch_jozsa_oracle(case='balanced'):\n",
        "    oracle = QuantumCircuit(4)\n",
        "\n",
        "    if case == 'balanced':\n",
        "        oracle.cx(0, 3)\n",
        "        oracle.cx(1, 3)\n",
        "        oracle.cx(2, 3)\n",
        "    elif case == 'constant':\n",
        "        oracle.x(3)\n",
        "\n",
        "    return oracle"
      ],
      "metadata": {
        "id": "dNK_HXfJE699"
      },
      "execution_count": 11,
      "outputs": []
    },
    {
      "cell_type": "code",
      "source": [
        "def deutsch_jozsa_circuit(case='balanced'):\n",
        "    qc = QuantumCircuit(4, 3)\n",
        "\n",
        "    qc.x(3)\n",
        "    qc.h([0, 1, 2, 3])\n",
        "\n",
        "    qc.append(deutsch_jozsa_oracle(case).to_gate(), [0, 1, 2, 3])\n",
        "\n",
        "    qc.h([0, 1, 2])\n",
        "\n",
        "    qc.measure([0, 1, 2], [0, 1, 2])\n",
        "    return qc\n",
        "\n",
        "for case in ['constant', 'balanced']:\n",
        "    print(f\"Function is {case}:\")\n",
        "    qc = deutsch_jozsa_circuit(case)\n",
        "    backend = Aer.get_backend('aer_simulator')\n",
        "    transpiled = transpile(qc, backend)\n",
        "    result = backend.run(transpiled).result()\n",
        "    counts = result.get_counts()\n",
        "    print(qc.draw(output='text'))\n",
        "    plot_histogram(counts)\n",
        "    plt.show()"
      ],
      "metadata": {
        "colab": {
          "base_uri": "https://localhost:8080/"
        },
        "id": "EKmjI6d9E-4G",
        "outputId": "ff456f14-fe0a-4bd4-ff91-31a8ffdbc799"
      },
      "execution_count": 12,
      "outputs": [
        {
          "output_type": "stream",
          "name": "stdout",
          "text": [
            "Function is constant:\n",
            "     ┌───┐     ┌──────────────┐┌───┐┌─┐      \n",
            "q_0: ┤ H ├─────┤0             ├┤ H ├┤M├──────\n",
            "     ├───┤     │              │├───┤└╥┘┌─┐   \n",
            "q_1: ┤ H ├─────┤1             ├┤ H ├─╫─┤M├───\n",
            "     ├───┤     │  circuit-166 │├───┤ ║ └╥┘┌─┐\n",
            "q_2: ┤ H ├─────┤2             ├┤ H ├─╫──╫─┤M├\n",
            "     ├───┤┌───┐│              │└───┘ ║  ║ └╥┘\n",
            "q_3: ┤ X ├┤ H ├┤3             ├──────╫──╫──╫─\n",
            "     └───┘└───┘└──────────────┘      ║  ║  ║ \n",
            "c: 3/════════════════════════════════╩══╩══╩═\n",
            "                                     0  1  2 \n",
            "Function is balanced:\n",
            "     ┌───┐     ┌──────────────┐┌───┐┌─┐      \n",
            "q_0: ┤ H ├─────┤0             ├┤ H ├┤M├──────\n",
            "     ├───┤     │              │├───┤└╥┘┌─┐   \n",
            "q_1: ┤ H ├─────┤1             ├┤ H ├─╫─┤M├───\n",
            "     ├───┤     │  circuit-171 │├───┤ ║ └╥┘┌─┐\n",
            "q_2: ┤ H ├─────┤2             ├┤ H ├─╫──╫─┤M├\n",
            "     ├───┤┌───┐│              │└───┘ ║  ║ └╥┘\n",
            "q_3: ┤ X ├┤ H ├┤3             ├──────╫──╫──╫─\n",
            "     └───┘└───┘└──────────────┘      ║  ║  ║ \n",
            "c: 3/════════════════════════════════╩══╩══╩═\n",
            "                                     0  1  2 \n"
          ]
        }
      ]
    }
  ]
}