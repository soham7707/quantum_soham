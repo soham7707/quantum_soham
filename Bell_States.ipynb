{
  "nbformat": 4,
  "nbformat_minor": 0,
  "metadata": {
    "colab": {
      "provenance": [],
      "authorship_tag": "ABX9TyP/w3b2lxcL2o56DR7Y6km9",
      "include_colab_link": true
    },
    "kernelspec": {
      "name": "python3",
      "display_name": "Python 3"
    },
    "language_info": {
      "name": "python"
    }
  },
  "cells": [
    {
      "cell_type": "markdown",
      "metadata": {
        "id": "view-in-github",
        "colab_type": "text"
      },
      "source": [
        "<a href=\"https://colab.research.google.com/github/soham7707/quantum_soham/blob/main/Bell_States.ipynb\" target=\"_parent\"><img src=\"https://colab.research.google.com/assets/colab-badge.svg\" alt=\"Open In Colab\"/></a>"
      ]
    },
    {
      "cell_type": "code",
      "execution_count": null,
      "metadata": {
        "id": "jbS3Q0QxApfm"
      },
      "outputs": [],
      "source": [
        "# Generation of All Four Bell States using Qiskit\n",
        "\n",
        "#### This notebook demonstrates how to create the four Bell States:\n",
        "#### - |Φ+⟩ = (|00⟩ + |11⟩)/√2\n",
        "#### - |Φ-⟩ = (|00⟩ - |11⟩)/√2\n",
        "#### - |Ψ+⟩ = (|01⟩ + |10⟩)/√2\n",
        "#### - |Ψ-⟩ = (|01⟩ - |10⟩)/√2"
      ]
    },
    {
      "cell_type": "code",
      "source": [
        "!pip install qiskit qiskit-aer matplotlib --quiet"
      ],
      "metadata": {
        "colab": {
          "base_uri": "https://localhost:8080/"
        },
        "id": "Ai1NfLS5A1G-",
        "outputId": "41491867-c762-42d3-dfee-f2b732ebb056"
      },
      "execution_count": 1,
      "outputs": [
        {
          "output_type": "stream",
          "name": "stdout",
          "text": [
            "\u001b[2K   \u001b[90m━━━━━━━━━━━━━━━━━━━━━━━━━━━━━━━━━━━━━━━━\u001b[0m \u001b[32m6.5/6.5 MB\u001b[0m \u001b[31m33.6 MB/s\u001b[0m eta \u001b[36m0:00:00\u001b[0m\n",
            "\u001b[2K   \u001b[90m━━━━━━━━━━━━━━━━━━━━━━━━━━━━━━━━━━━━━━━━\u001b[0m \u001b[32m12.4/12.4 MB\u001b[0m \u001b[31m57.9 MB/s\u001b[0m eta \u001b[36m0:00:00\u001b[0m\n",
            "\u001b[2K   \u001b[90m━━━━━━━━━━━━━━━━━━━━━━━━━━━━━━━━━━━━━━━━\u001b[0m \u001b[32m2.1/2.1 MB\u001b[0m \u001b[31m40.8 MB/s\u001b[0m eta \u001b[36m0:00:00\u001b[0m\n",
            "\u001b[2K   \u001b[90m━━━━━━━━━━━━━━━━━━━━━━━━━━━━━━━━━━━━━━━━\u001b[0m \u001b[32m49.5/49.5 kB\u001b[0m \u001b[31m3.2 MB/s\u001b[0m eta \u001b[36m0:00:00\u001b[0m\n",
            "\u001b[2K   \u001b[90m━━━━━━━━━━━━━━━━━━━━━━━━━━━━━━━━━━━━━━━━\u001b[0m \u001b[32m49.7/49.7 MB\u001b[0m \u001b[31m12.4 MB/s\u001b[0m eta \u001b[36m0:00:00\u001b[0m\n",
            "\u001b[2K   \u001b[90m━━━━━━━━━━━━━━━━━━━━━━━━━━━━━━━━━━━━━━━━\u001b[0m \u001b[32m109.0/109.0 kB\u001b[0m \u001b[31m4.3 MB/s\u001b[0m eta \u001b[36m0:00:00\u001b[0m\n",
            "\u001b[?25h"
          ]
        }
      ]
    },
    {
      "cell_type": "code",
      "source": [
        "from qiskit import QuantumCircuit, transpile\n",
        "from qiskit_aer import Aer\n",
        "from qiskit.visualization import plot_bloch_multivector, plot_histogram\n",
        "from qiskit.quantum_info import Statevector\n",
        "import matplotlib.pyplot as plt"
      ],
      "metadata": {
        "id": "kDnh3KUCBRhG"
      },
      "execution_count": 2,
      "outputs": []
    },
    {
      "cell_type": "code",
      "source": [
        "def generate_bell_state(i):\n",
        "\n",
        "    from qiskit import QuantumCircuit\n",
        "    qc = QuantumCircuit(2, 2)\n",
        "    qc.h(0)\n",
        "    qc.cx(0, 1)\n",
        "\n",
        "    if i == 1:  # Φ⁻\n",
        "        qc.z(0)\n",
        "    elif i == 2:  # Ψ⁺\n",
        "        qc.x(1)\n",
        "    elif i == 3:  # Ψ⁻\n",
        "        qc.z(0)\n",
        "        qc.x(1)\n",
        "\n",
        "    qc.measure_all()\n",
        "    return qc"
      ],
      "metadata": {
        "id": "lokGNXKKB16s"
      },
      "execution_count": 3,
      "outputs": []
    },
    {
      "cell_type": "code",
      "source": [
        "states = ['Φ⁺', 'Φ⁻', 'Ψ⁺', 'Ψ⁻']\n",
        "backend = Aer.get_backend('aer_simulator')\n",
        "\n",
        "for i in range(4):\n",
        "    print(f\"Bell State |{states[i]}⟩:\")\n",
        "    qc = generate_bell_state(i)\n",
        "    print(qc.draw(output='text'))\n",
        "    transpiled = transpile(qc, backend)\n",
        "    result = backend.run(transpiled).result()\n",
        "    counts = result.get_counts()\n",
        "    plot_histogram(counts)\n",
        "    plt.show()"
      ],
      "metadata": {
        "colab": {
          "base_uri": "https://localhost:8080/"
        },
        "id": "MDDvMjG4CA5J",
        "outputId": "bc555ce1-e9b9-4e0a-ca58-e802ea54330a"
      },
      "execution_count": 4,
      "outputs": [
        {
          "output_type": "stream",
          "name": "stdout",
          "text": [
            "Bell State |Φ⁺⟩:\n",
            "        ┌───┐      ░ ┌─┐   \n",
            "   q_0: ┤ H ├──■───░─┤M├───\n",
            "        └───┘┌─┴─┐ ░ └╥┘┌─┐\n",
            "   q_1: ─────┤ X ├─░──╫─┤M├\n",
            "             └───┘ ░  ║ └╥┘\n",
            "   c: 2/══════════════╬══╬═\n",
            "                      ║  ║ \n",
            "meas: 2/══════════════╩══╩═\n",
            "                      0  1 \n",
            "Bell State |Φ⁻⟩:\n",
            "        ┌───┐     ┌───┐ ░ ┌─┐   \n",
            "   q_0: ┤ H ├──■──┤ Z ├─░─┤M├───\n",
            "        └───┘┌─┴─┐└───┘ ░ └╥┘┌─┐\n",
            "   q_1: ─────┤ X ├──────░──╫─┤M├\n",
            "             └───┘      ░  ║ └╥┘\n",
            "   c: 2/═══════════════════╬══╬═\n",
            "                           ║  ║ \n",
            "meas: 2/═══════════════════╩══╩═\n",
            "                           0  1 \n",
            "Bell State |Ψ⁺⟩:\n",
            "        ┌───┐           ░ ┌─┐   \n",
            "   q_0: ┤ H ├──■────────░─┤M├───\n",
            "        └───┘┌─┴─┐┌───┐ ░ └╥┘┌─┐\n",
            "   q_1: ─────┤ X ├┤ X ├─░──╫─┤M├\n",
            "             └───┘└───┘ ░  ║ └╥┘\n",
            "   c: 2/═══════════════════╬══╬═\n",
            "                           ║  ║ \n",
            "meas: 2/═══════════════════╩══╩═\n",
            "                           0  1 \n",
            "Bell State |Ψ⁻⟩:\n",
            "        ┌───┐     ┌───┐ ░ ┌─┐   \n",
            "   q_0: ┤ H ├──■──┤ Z ├─░─┤M├───\n",
            "        └───┘┌─┴─┐├───┤ ░ └╥┘┌─┐\n",
            "   q_1: ─────┤ X ├┤ X ├─░──╫─┤M├\n",
            "             └───┘└───┘ ░  ║ └╥┘\n",
            "   c: 2/═══════════════════╬══╬═\n",
            "                           ║  ║ \n",
            "meas: 2/═══════════════════╩══╩═\n",
            "                           0  1 \n"
          ]
        }
      ]
    }
  ]
}